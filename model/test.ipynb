{
 "cells": [
  {
   "attachments": {},
   "cell_type": "markdown",
   "metadata": {},
   "source": [
    "A miscallaneous file I used to test how to integreate the models into streamlit"
   ]
  },
  {
   "cell_type": "code",
   "execution_count": 1,
   "metadata": {},
   "outputs": [],
   "source": [
    "import torch\n",
    "import torch.nn as nn\n",
    "import torch.nn.functional as F\n",
    "import torch.optim as optim\n",
    "\n",
    "import numpy as np\n",
    "from tqdm import tqdm\n",
    "\n",
    "import librosa\n",
    "import matplotlib.pyplot as plt\n",
    "\n",
    "device = 'cpu'\n",
    "# print(f\"Using {device} device\")\n",
    "num_segments = 40"
   ]
  },
  {
   "cell_type": "code",
   "execution_count": 2,
   "metadata": {},
   "outputs": [],
   "source": [
    "class pitch_gen(nn.Module):\n",
    "    def __init__(self):\n",
    "        super(pitch_gen, self).__init__()\n",
    "        self.conv = nn.Conv1d(1, 6, 9, 1, 4)\n",
    "        self.maxpool = nn.MaxPool1d(3, 3)\n",
    "\n",
    "        self.fc1 = nn.Linear(13212, 5000)\n",
    "        self.fc2 = nn.Linear(5000, 1000)\n",
    "        self.fc3 = nn.Linear(1000, 12)\n",
    "\n",
    "    def forward(self, x):\n",
    "        x = x.unsqueeze(1)\n",
    "        x = self.conv(x)\n",
    "        x = self.maxpool(x)\n",
    "        x = x.view(x.shape[0], -1)\n",
    "        x = F.relu(self.fc1(x))\n",
    "        x = F.relu(self.fc2(x))\n",
    "        x = self.fc3(x)\n",
    "        max_values, _ = torch.max(x, dim = 1, keepdim = True)\n",
    "        x = x / max_values\n",
    "        return x"
   ]
  },
  {
   "cell_type": "code",
   "execution_count": 3,
   "metadata": {},
   "outputs": [
    {
     "data": {
      "text/plain": [
       "<All keys matched successfully>"
      ]
     },
     "execution_count": 3,
     "metadata": {},
     "output_type": "execute_result"
    }
   ],
   "source": [
    "# loading in the pitch generation model\n",
    "pitch_model = pitch_gen().to(device)\n",
    "saved_model = torch.load('../model/pitch_cnn_model_epoch_14.pth', map_location = torch.device('cpu'))\n",
    "pitch_model.load_state_dict(saved_model)"
   ]
  },
  {
   "cell_type": "code",
   "execution_count": 4,
   "metadata": {},
   "outputs": [],
   "source": [
    "def normalize_length(y):\n",
    "    current_length = len(y)\n",
    "    target_length = 0.29955542442579697 * 22050\n",
    "    ratio = target_length / current_length\n",
    "    target_sr = 22050 * ratio\n",
    "    y = librosa.resample(y, orig_sr=22050, target_sr=target_sr)\n",
    "    return y"
   ]
  },
  {
   "cell_type": "code",
   "execution_count": 13,
   "metadata": {},
   "outputs": [
    {
     "name": "stdout",
     "output_type": "stream",
     "text": [
      "torch.Size([1, 6606])\n",
      "torch.Size([1, 6606])\n",
      "torch.Size([1, 6606])\n",
      "torch.Size([1, 6606])\n",
      "torch.Size([1, 6606])\n",
      "torch.Size([1, 6606])\n",
      "torch.Size([1, 6606])\n",
      "torch.Size([1, 6606])\n",
      "torch.Size([1, 6606])\n",
      "torch.Size([1, 6606])\n",
      "torch.Size([1, 6606])\n",
      "torch.Size([1, 6606])\n",
      "torch.Size([1, 6606])\n",
      "torch.Size([1, 6606])\n",
      "torch.Size([1, 6606])\n",
      "torch.Size([1, 6606])\n",
      "torch.Size([1, 6606])\n",
      "torch.Size([1, 6606])\n",
      "torch.Size([1, 6606])\n",
      "torch.Size([1, 6606])\n",
      "torch.Size([1, 6606])\n",
      "torch.Size([1, 6606])\n",
      "torch.Size([1, 6606])\n",
      "torch.Size([1, 6606])\n",
      "torch.Size([1, 6606])\n",
      "torch.Size([1, 6606])\n",
      "torch.Size([1, 6606])\n",
      "torch.Size([1, 6606])\n",
      "torch.Size([1, 6606])\n",
      "torch.Size([1, 6606])\n",
      "torch.Size([1, 6606])\n",
      "torch.Size([1, 6606])\n",
      "torch.Size([1, 6606])\n",
      "torch.Size([1, 6606])\n",
      "torch.Size([1, 6606])\n",
      "torch.Size([1, 6606])\n",
      "torch.Size([1, 6606])\n",
      "torch.Size([1, 6606])\n",
      "torch.Size([1, 6606])\n",
      "torch.Size([1, 6606])\n"
     ]
    },
    {
     "data": {
      "text/plain": [
       "<matplotlib.colorbar.Colorbar at 0x2ccb57a30>"
      ]
     },
     "execution_count": 13,
     "metadata": {},
     "output_type": "execute_result"
    },
    {
     "data": {
      "image/png": "[encoded data removed]",
      "text/plain": [
       "<Figure size 640x480 with 2 Axes>"
      ]
     },
     "metadata": {},
     "output_type": "display_data"
    }
   ],
   "source": [
    "y, sr = librosa.load('../streamlit/output.wav')\n",
    "onsets = librosa.onset.onset_detect(y = y, sr = sr, units = 'samples')\n",
    "onsets = np.array(onsets[:40])\n",
    "\n",
    "# split y into the onset segments\n",
    "y_segments = np.split(y, onsets)[:-1]\n",
    "\n",
    "# generate pitch\n",
    "pitches = []\n",
    "for segment in y_segments:\n",
    "    # pitches.append(librosa.feature.chroma_stft(y = segment, sr = 22050, n_chroma = 12, n_fft = len(segment), hop_length = len(segment) + 1))\n",
    "    tensor = torch.from_numpy(normalize_length(segment)).unsqueeze(0)\n",
    "    print(tensor.shape)\n",
    "    pitches.append(pitch_model(tensor).detach().numpy())\n",
    "pitches = np.array(pitches)\n",
    "\n",
    "plt.imshow(pitches.squeeze(1).T)\n",
    "plt.colorbar()"
   ]
  },
  {
   "cell_type": "code",
   "execution_count": 14,
   "metadata": {},
   "outputs": [],
   "source": [
    "class timbre_gen(nn.Module):\n",
    "    def __init__(self):\n",
    "        super(timbre_gen, self).__init__()\n",
    "\n",
    "        # look at 4 mel bands above and below, and look at 1 time sample before and after\n",
    "        self.conv1 = nn.Conv2d(1, 4, kernel_size=(9, 3), stride=(1, 1))\n",
    "        self.conv2 = nn.Conv2d(4, 8, kernel_size=(3, 3), stride=(1, 1))\n",
    "        self.dropout = nn.Dropout(0.2)\n",
    "        self.fc1 = nn.Linear(8496, 1024)\n",
    "        self.fc2 = nn.Linear(1024, 12)\n",
    "\n",
    "    def forward(self, x):\n",
    "        x = x.unsqueeze(1)\n",
    "        x = F.relu(self.conv1(x))\n",
    "        x = F.relu(self.conv2(x))\n",
    "        x = self.dropout(x)\n",
    "        x = x.view(x.size(0), -1)\n",
    "        x = F.relu(self.fc1(x))\n",
    "        # x = F.relu(self.fc2(x))\n",
    "        x = self.fc2(x)\n",
    "        return x"
   ]
  },
  {
   "cell_type": "code",
   "execution_count": 15,
   "metadata": {},
   "outputs": [],
   "source": [
    "def create_spectrogram(y):\n",
    "    current_length = len(y)\n",
    "    target_length = 0.29955542442579697 * 22050\n",
    "    ratio = target_length / current_length\n",
    "    target_sr = 22050 * ratio\n",
    "    y = librosa.resample(y, orig_sr=22050, target_sr=target_sr)\n",
    "    mel = librosa.feature.melspectrogram(y = y, sr = target_sr, n_mels = 128)\n",
    "    return mel"
   ]
  },
  {
   "cell_type": "code",
   "execution_count": 18,
   "metadata": {},
   "outputs": [
    {
     "data": {
      "text/plain": [
       "<matplotlib.colorbar.Colorbar at 0x2ccc1b5b0>"
      ]
     },
     "execution_count": 18,
     "metadata": {},
     "output_type": "execute_result"
    },
    {
     "data": {
      "image/png": "[encoded data removed]",
      "text/plain": [
       "<Figure size 640x480 with 2 Axes>"
      ]
     },
     "metadata": {},
     "output_type": "display_data"
    }
   ],
   "source": [
    "# loading in the timbre generation model\n",
    "timbre_model = timbre_gen().to(device)\n",
    "saved_model = torch.load('../model/small_specgram_timbre_model_epoch_60_best.pth', map_location = torch.device('cpu'))\n",
    "timbre_model.load_state_dict(saved_model['model_state_dict'])\n",
    "\n",
    "# generate timbre\n",
    "timbres = []\n",
    "for segment in y_segments:\n",
    "    tensor = torch.from_numpy(create_spectrogram(segment)).unsqueeze(0)\n",
    "    timbres.append(timbre_model(tensor).detach().numpy())\n",
    "timbres = np.array(timbres)\n",
    "\n",
    "plt.imshow(timbres.squeeze(1).T)\n",
    "plt.colorbar()"
   ]
  },
  {
   "cell_type": "code",
   "execution_count": 20,
   "metadata": {},
   "outputs": [],
   "source": [
    "# genre classification model\n",
    "class TwoChannelCNN(nn.Module):\n",
    "    def __init__(self, numClasses):\n",
    "        super(TwoChannelCNN, self).__init__()\n",
    "        self.layer1 = nn.Sequential(\n",
    "            nn.Conv2d(1, 256, kernel_size=3, stride=1, padding=1),\n",
    "            nn.ReLU(inplace=True),\n",
    "            nn.MaxPool2d(kernel_size=2, stride=2),\n",
    "            nn.Conv2d(256, 512, kernel_size=3, stride=1, padding=1),\n",
    "            nn.ReLU(inplace=True),\n",
    "            nn.MaxPool2d(kernel_size=2, stride=2),\n",
    "        )\n",
    "\n",
    "        self.layer2 = nn.Sequential(\n",
    "            nn.Conv2d(1, 256, kernel_size=3, stride=1, padding=1),\n",
    "            nn.ReLU(inplace=True),\n",
    "            nn.MaxPool2d(kernel_size=2, stride=2),\n",
    "            nn.Conv2d(256, 512, kernel_size=3, stride=1, padding=1),\n",
    "            nn.ReLU(inplace=True),\n",
    "            nn.MaxPool2d(kernel_size=2, stride=2),\n",
    "        )\n",
    "\n",
    "        self.dropout = nn.Dropout(0.5)\n",
    "        self.fc1 = nn.Linear(30720, 4096)\n",
    "        self.fc2 = nn.Linear(4096, 1024)\n",
    "        self.fc3 = nn.Linear(1024, numClasses)\n",
    "\n",
    "    def forward(self, x):\n",
    "        # x has shape (batch_size, 2, 50, 12)\n",
    "        x1 = x[:, 0, :num_segments, :].unsqueeze(1)  # shape: (batch_size, 1, num_segments, 12)\n",
    "        x2 = x[:, 1, :num_segments, :].unsqueeze(1)  # shape: (batch_size, 1, num_segments, 12)\n",
    "\n",
    "        out1 = self.layer1(x1)  # shape: (batch_size, 64, 6, 3)\n",
    "        out2 = self.layer2(x2)  # shape: (batch_size, 64, 6, 3)\n",
    "\n",
    "        out1 = self.dropout(out1)\n",
    "        out2 = self.dropout(out2)\n",
    "\n",
    "        out = torch.cat((out1, out2), dim=1)  # shape: (batch_size, 128, 6, 3)\n",
    "        out = out.view(out.size(0), -1)  # shape: (batch_size, 128*6*3)\n",
    "#         print(f'shape: {out.shape}')\n",
    "        out = F.relu(self.fc1(out))\n",
    "        out = self.dropout(out)\n",
    "        out = F.relu(self.fc2(out))\n",
    "        out = self.fc3(out)\n",
    "        return out"
   ]
  },
  {
   "cell_type": "code",
   "execution_count": 21,
   "metadata": {},
   "outputs": [
    {
     "data": {
      "text/plain": [
       "<All keys matched successfully>"
      ]
     },
     "execution_count": 21,
     "metadata": {},
     "output_type": "execute_result"
    }
   ],
   "source": [
    "# loading in the genre classifier model\n",
    "# 15 for 15 genres\n",
    "genre_model = TwoChannelCNN(15).to(device)\n",
    "trained_model = torch.load('../model/40_segments_epochs_180.pth', map_location = torch.device('cpu'))\n",
    "genre_model.load_state_dict(trained_model)"
   ]
  },
  {
   "cell_type": "code",
   "execution_count": 27,
   "metadata": {},
   "outputs": [],
   "source": [
    "def prediction_dict(predictions):\n",
    "    classes = [key for key in {'Rock' : 0, 'Electronic' : 1, 'Pop': 2, 'Blues' : 3, 'Jazz' : 4, 'Rap': 5, \\\n",
    "                'Metal' : 6, 'RnB' : 7, 'Country' : 8, 'Reggae' : 9,  'Folk' : 10,  'World' : 11, \\\n",
    "                'Punk' : 12, 'New' : 13, 'Latin' : 14\n",
    "    }]\n",
    "    predictions = predictions.detach().numpy().squeeze()\n",
    "    predictions = {c: prediction for (c, prediction) in zip(classes, predictions)}\n",
    "\n",
    "    return dict(sorted(predictions.items(), key=lambda item: item[1], reverse=True))\n",
    "\n",
    "def create_timbre_and_pitch(filename, n):\n",
    "    y, sr = librosa.load(filename)\n",
    "    onsets = librosa.onset.onset_detect(y = y, sr = sr, units = 'samples')\n",
    "    onsets = np.array(onsets[:n])\n",
    "\n",
    "    # split y into the onset segments\n",
    "    y_segments = np.split(y, onsets)[:-1]\n",
    "\n",
    "    # generate pitch\n",
    "    pitches = []\n",
    "    for segment in y_segments:\n",
    "        # pitches.append(librosa.feature.chroma_stft(y = segment, sr = 22050, n_chroma = 12, n_fft = len(segment), hop_length = len(segment) + 1))\n",
    "        tensor = torch.from_numpy(normalize_length(segment)).unsqueeze(0)\n",
    "        pitches.append(pitch_model(tensor).detach().numpy())\n",
    "    pitches = np.array(pitches).squeeze()\n",
    "\n",
    "    # generate timbre\n",
    "    timbres = []\n",
    "    for segment in y_segments:\n",
    "        tensor = torch.from_numpy(create_spectrogram(segment)).unsqueeze(0)\n",
    "        timbres.append(timbre_model(tensor).detach().numpy())\n",
    "    timbres = np.array(timbres).squeeze()\n",
    "\n",
    "    return timbres, pitches"
   ]
  },
  {
   "cell_type": "code",
   "execution_count": 29,
   "metadata": {},
   "outputs": [
    {
     "name": "stdout",
     "output_type": "stream",
     "text": [
      "(40, 12)\n",
      "torch.Size([1, 1, 40, 12])\n"
     ]
    }
   ],
   "source": [
    "timbres, pitches = create_timbre_and_pitch('../streamlit/output.wav', 40)\n",
    "print(timbres.shape)\n",
    "\n",
    "timbres = torch.from_numpy(timbres).unsqueeze(0).unsqueeze(0)  # shape: (1, 1, num_segments, 12)\n",
    "pitches = torch.from_numpy(pitches).unsqueeze(0).unsqueeze(0)  # shape: (1, 1, num_segments, 12)\n",
    "print(timbres.shape)\n",
    "\n",
    "input_tensor = torch.cat((timbres, pitches), dim=1)\n",
    "\n",
    "genre_model.eval()\n",
    "predictions = genre_model(input_tensor)"
   ]
  },
  {
   "cell_type": "code",
   "execution_count": null,
   "metadata": {},
   "outputs": [],
   "source": []
  }
 ],
 "metadata": {
  "kernelspec": {
   "display_name": "shazam",
   "language": "python",
   "name": "python3"
  },
  "language_info": {
   "codemirror_mode": {
    "name": "ipython",
    "version": 3
   },
   "file_extension": ".py",
   "mimetype": "text/x-python",
   "name": "python",
   "nbconvert_exporter": "python",
   "pygments_lexer": "ipython3",
   "version": "3.10.11"
  },
  "orig_nbformat": 4
 },
 "nbformat": 4,
 "nbformat_minor": 2
}
