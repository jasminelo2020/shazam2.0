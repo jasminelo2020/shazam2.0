{
 "cells": [
  {
   "cell_type": "code",
   "execution_count": 1,
   "metadata": {},
   "outputs": [],
   "source": [
    "import torch\n",
    "import torch.nn as nn\n",
    "import torch.nn.functional as F\n",
    "import torch.optim as optim\n",
    "import load_csv_timbre\n",
    "import numpy as np\n",
    "from tqdm import tqdm\n",
    "import datetime"
   ]
  },
  {
   "cell_type": "code",
   "execution_count": 2,
   "metadata": {},
   "outputs": [
    {
     "name": "stdout",
     "output_type": "stream",
     "text": [
      "cuda\n",
      "Data Loaded\n"
     ]
    }
   ],
   "source": [
    "CUDA_LAUNCH_BLOCKING = 1.\n",
    "\n",
    "device = (\n",
    "   \"cuda\" if torch.cuda.is_available()\n",
    "    else \"mps\"\n",
    "    if torch.backends.mps.is_available()\n",
    "    else \"cpu\"\n",
    ")\n",
    "print(device)\n",
    "# device = \"cpu\"\n",
    "\n",
    "BATCH_SIZE = 4096\n",
    "train_loader, test_loader, validation_loader = load_csv_timbre.load_MSD(batch_size=BATCH_SIZE, device=device)\n",
    "\n",
    "print(\"Data Loaded\")"
   ]
  },
  {
   "cell_type": "code",
   "execution_count": 4,
   "metadata": {},
   "outputs": [
    {
     "name": "stdout",
     "output_type": "stream",
     "text": [
      "model(\n",
      "  (conv1): Conv2d(1, 4, kernel_size=(9, 3), stride=(1, 1))\n",
      "  (conv2): Conv2d(4, 8, kernel_size=(3, 3), stride=(1, 1))\n",
      "  (dropout): Dropout(p=0.2, inplace=False)\n",
      "  (fc1): Linear(in_features=8496, out_features=1024, bias=True)\n",
      "  (fc2): Linear(in_features=1024, out_features=12, bias=True)\n",
      ")\n"
     ]
    }
   ],
   "source": [
    "import time\n",
    "# class model(nn.Module):\n",
    "#     def __init__(self):\n",
    "#         super(model, self).__init__()\n",
    "\n",
    "#         self.fc1 = nn.Linear(128 * 13, 512) # changed size\n",
    "#         self.fc2 = nn.Linear(512, 128)\n",
    "#         self.fc3 = nn.Linear(128, 12)\n",
    "\n",
    "#     def forward(self, x):\n",
    "#         # reshape the input to be (batchsize, 128*3)\n",
    "#         x = x.view(x.size(0), -1)\n",
    "#         x = F.relu(self.fc1(x))\n",
    "#         x = F.relu(self.fc2(x))\n",
    "#         x = self.fc3(x)\n",
    "#         return x\n",
    "\n",
    "class model(nn.Module):\n",
    "    def __init__(self):\n",
    "        super(model, self).__init__()\n",
    "\n",
    "        # look at 4 mel bands above and below, and look at 1 time sample before and after\n",
    "        self.conv1 = nn.Conv2d(1, 4, kernel_size=(9, 3), stride=(1, 1))\n",
    "        self.conv2 = nn.Conv2d(4, 8, kernel_size=(3, 3), stride=(1, 1))\n",
    "        self.dropout = nn.Dropout(0.2)\n",
    "        self.fc1 = nn.Linear(8496, 1024)\n",
    "        self.fc2 = nn.Linear(1024, 12)\n",
    "\n",
    "    def forward(self, x):\n",
    "        x = x.unsqueeze(1)\n",
    "        x = F.relu(self.conv1(x))\n",
    "        x = F.relu(self.conv2(x))\n",
    "        x = self.dropout(x)\n",
    "        x = x.view(x.size(0), -1)\n",
    "        x = F.relu(self.fc1(x))\n",
    "        # x = F.relu(self.fc2(x))\n",
    "        x = self.fc2(x)\n",
    "        return x\n",
    "    \n",
    "# class model(nn.Module):\n",
    "#     def __init__(self):\n",
    "#         super(model, self).__init__()\n",
    "\n",
    "#         # look at 4 mel bands above and below, and look at 1 time sample before and after\n",
    "#         self.conv1 = nn.Conv2d(1, 8, kernel_size=(9, 3), stride=(1, 1))\n",
    "#         self.conv2 = nn.Conv2d(8, 16, kernel_size=(3, 3), stride=(1, 1))\n",
    "#         self.dropout = nn.Dropout(0.4)\n",
    "#         self.fc1 = nn.Linear(16992, 4096)\n",
    "#         self.fc2 = nn.Linear(4096, 1024)\n",
    "#         self.fc3 = nn.Linear(1024, 12)\n",
    "\n",
    "#     def forward(self, x):\n",
    "#         x = x.unsqueeze(1)\n",
    "#         x = F.relu(self.conv1(x))\n",
    "#         x = F.relu(self.conv2(x))\n",
    "#         x = self.dropout(x)\n",
    "#         x = x.view(x.size(0), -1)\n",
    "#         x = F.relu(self.fc1(x))\n",
    "#         x = F.relu(self.fc2(x))\n",
    "#         x = self.fc3(x)\n",
    "#         return x\n",
    "\n",
    "        \n",
    "model = model().to(device)\n",
    "\n",
    "saved_model = torch.load('small_specgram_timbre_model_epoch_55_best.pth')\n",
    "model.load_state_dict(saved_model['model_state_dict'])\n",
    "\n",
    "print(model)\n",
    "\n",
    "last_epoch = 55\n",
    "\n",
    "criterion = nn.MSELoss()\n",
    "optimizer = optim.Adam(model.parameters(), lr=0.0001)\n",
    "optimizer.load_state_dict(saved_model['optimizer_state_dict'])\n",
    "# scheduler = optim.lr_scheduler.StepLR(optimizer, step_size = 15, gamma = 0.1)\n",
    "# scheduler.load_state_dict(saved_model['scheduler_state_dict'])\n",
    "\n",
    "epochs = 80\n",
    "min_valid_loss = 335.4599358694894"
   ]
  },
  {
   "cell_type": "code",
   "execution_count": 5,
   "metadata": {},
   "outputs": [
    {
     "name": "stderr",
     "output_type": "stream",
     "text": [
      "205it [35:47, 10.48s/it]\n",
      "42it [03:20,  4.76s/it]\n"
     ]
    },
    {
     "name": "stdout",
     "output_type": "stream",
     "text": [
      "----------------------------------------------------------\n",
      "Epoch: 56/80\n",
      "Start @ 0:11, End @ 0:50\n",
      "Epoch Duration: 2348.54s / 39.14 min\n",
      "Training Loss: 464.542144\n",
      "Validation Loss: 336.212185\n",
      "Learning rate: [0.005]\n",
      "----------------------------------------------------------\n",
      "\n"
     ]
    },
    {
     "name": "stderr",
     "output_type": "stream",
     "text": [
      "205it [39:36, 11.59s/it]\n",
      "42it [03:21,  4.79s/it]\n"
     ]
    },
    {
     "name": "stdout",
     "output_type": "stream",
     "text": [
      "----------------------------------------------------------\n",
      "Epoch: 57/80\n",
      "Start @ 0:50, End @ 1:33\n",
      "Epoch Duration: 2578.20s / 42.97 min\n",
      "Training Loss: 456.479237\n",
      "Validation Loss: 335.792884\n",
      "Learning rate: [0.005]\n",
      "----------------------------------------------------------\n",
      "\n"
     ]
    },
    {
     "name": "stderr",
     "output_type": "stream",
     "text": [
      "205it [39:28, 11.55s/it]\n",
      "42it [03:19,  4.75s/it]\n"
     ]
    },
    {
     "name": "stdout",
     "output_type": "stream",
     "text": [
      "----------------------------------------------------------\n",
      "validation loss decreased: 335.4599358694894 -> 335.3856809706915\n",
      "saving current model as big_specgram_timbre_model_epoch_58_best.pth\n",
      "Epoch: 58/80\n",
      "Start @ 1:33, End @ 2:16\n",
      "Epoch Duration: 2568.27s / 42.80 min\n",
      "Training Loss: 455.655438\n",
      "Validation Loss: 335.385681\n",
      "Learning rate: [0.005]\n",
      "----------------------------------------------------------\n",
      "\n"
     ]
    },
    {
     "name": "stderr",
     "output_type": "stream",
     "text": [
      "205it [39:51, 11.67s/it]\n",
      "42it [03:17,  4.71s/it]\n"
     ]
    },
    {
     "name": "stdout",
     "output_type": "stream",
     "text": [
      "----------------------------------------------------------\n",
      "Epoch: 59/80\n",
      "Start @ 2:16, End @ 2:59\n",
      "Epoch Duration: 2589.90s / 43.16 min\n",
      "Training Loss: 449.913362\n",
      "Validation Loss: 336.231813\n",
      "Learning rate: [0.005]\n",
      "----------------------------------------------------------\n",
      "\n"
     ]
    },
    {
     "name": "stderr",
     "output_type": "stream",
     "text": [
      "205it [39:14, 11.48s/it]\n",
      "42it [03:19,  4.74s/it]\n"
     ]
    },
    {
     "name": "stdout",
     "output_type": "stream",
     "text": [
      "----------------------------------------------------------\n",
      "validation loss decreased: 335.3856809706915 -> 334.6243776593889\n",
      "saving current model as big_specgram_timbre_model_epoch_60_best.pth\n",
      "Epoch: 60/80\n",
      "Start @ 2:59, End @ 3:41\n",
      "Epoch Duration: 2553.57s / 42.56 min\n",
      "Training Loss: 460.495707\n",
      "Validation Loss: 334.624378\n",
      "Learning rate: [0.005]\n",
      "----------------------------------------------------------\n",
      "\n"
     ]
    },
    {
     "name": "stderr",
     "output_type": "stream",
     "text": [
      "205it [39:25, 11.54s/it]\n",
      "42it [03:18,  4.73s/it]\n"
     ]
    },
    {
     "name": "stdout",
     "output_type": "stream",
     "text": [
      "----------------------------------------------------------\n",
      "Epoch: 61/80\n",
      "Start @ 3:41, End @ 4:24\n",
      "Epoch Duration: 2563.99s / 42.73 min\n",
      "Training Loss: 464.641538\n",
      "Validation Loss: 335.218439\n",
      "Learning rate: [0.005]\n",
      "----------------------------------------------------------\n",
      "\n"
     ]
    },
    {
     "name": "stderr",
     "output_type": "stream",
     "text": [
      "205it [39:49, 11.66s/it]\n",
      "42it [03:19,  4.75s/it]\n"
     ]
    },
    {
     "name": "stdout",
     "output_type": "stream",
     "text": [
      "----------------------------------------------------------\n",
      "Epoch: 62/80\n",
      "Start @ 4:24, End @ 5:7\n",
      "Epoch Duration: 2589.45s / 43.16 min\n",
      "Training Loss: 456.778566\n",
      "Validation Loss: 335.259866\n",
      "Learning rate: [0.005]\n",
      "----------------------------------------------------------\n",
      "\n"
     ]
    },
    {
     "name": "stderr",
     "output_type": "stream",
     "text": [
      "205it [39:03, 11.43s/it]\n",
      "42it [03:18,  4.72s/it]\n"
     ]
    },
    {
     "name": "stdout",
     "output_type": "stream",
     "text": [
      "----------------------------------------------------------\n",
      "Epoch: 63/80\n",
      "Start @ 5:7, End @ 5:50\n",
      "Epoch Duration: 2541.96s / 42.37 min\n",
      "Training Loss: 454.500990\n",
      "Validation Loss: 334.948167\n",
      "Learning rate: [0.005]\n",
      "----------------------------------------------------------\n",
      "\n"
     ]
    },
    {
     "name": "stderr",
     "output_type": "stream",
     "text": [
      "205it [39:07, 11.45s/it]\n",
      "42it [03:19,  4.75s/it]\n"
     ]
    },
    {
     "name": "stdout",
     "output_type": "stream",
     "text": [
      "----------------------------------------------------------\n",
      "Epoch: 64/80\n",
      "Start @ 5:50, End @ 6:32\n",
      "Epoch Duration: 2546.63s / 42.44 min\n",
      "Training Loss: 459.385780\n",
      "Validation Loss: 334.862365\n",
      "Learning rate: [0.005]\n",
      "----------------------------------------------------------\n",
      "\n"
     ]
    },
    {
     "name": "stderr",
     "output_type": "stream",
     "text": [
      "205it [39:34, 11.58s/it]\n",
      "42it [03:18,  4.73s/it]\n"
     ]
    },
    {
     "name": "stdout",
     "output_type": "stream",
     "text": [
      "----------------------------------------------------------\n",
      "Epoch: 65/80\n",
      "Start @ 6:32, End @ 7:15\n",
      "Epoch Duration: 2573.50s / 42.89 min\n",
      "Training Loss: 454.092628\n",
      "Validation Loss: 334.734373\n",
      "Learning rate: [0.005]\n",
      "----------------------------------------------------------\n",
      "\n"
     ]
    },
    {
     "name": "stderr",
     "output_type": "stream",
     "text": [
      "205it [38:55, 11.39s/it]\n",
      "42it [03:05,  4.42s/it]\n"
     ]
    },
    {
     "name": "stdout",
     "output_type": "stream",
     "text": [
      "----------------------------------------------------------\n",
      "Epoch: 66/80\n",
      "Start @ 7:15, End @ 7:57\n",
      "Epoch Duration: 2521.74s / 42.03 min\n",
      "Training Loss: 453.092661\n",
      "Validation Loss: 334.628201\n",
      "Learning rate: [0.005]\n",
      "----------------------------------------------------------\n",
      "\n"
     ]
    },
    {
     "name": "stderr",
     "output_type": "stream",
     "text": [
      "124it [22:45, 11.01s/it]\n"
     ]
    },
    {
     "ename": "KeyboardInterrupt",
     "evalue": "",
     "output_type": "error",
     "traceback": [
      "\u001b[1;31m---------------------------------------------------------------------------\u001b[0m",
      "\u001b[1;31mKeyboardInterrupt\u001b[0m                         Traceback (most recent call last)",
      "Cell \u001b[1;32mIn[5], line 10\u001b[0m\n\u001b[0;32m      7\u001b[0m validation_loss \u001b[39m=\u001b[39m \u001b[39m0.0\u001b[39m\n\u001b[0;32m      9\u001b[0m \u001b[39m# actual model training\u001b[39;00m\n\u001b[1;32m---> 10\u001b[0m \u001b[39mfor\u001b[39;00m i, (data,labels) \u001b[39min\u001b[39;00m tqdm(\u001b[39menumerate\u001b[39m(train_loader)):\n\u001b[0;32m     11\u001b[0m     data, labels \u001b[39m=\u001b[39m data\u001b[39m.\u001b[39mto(device), labels\u001b[39m.\u001b[39mto(device)\n\u001b[0;32m     13\u001b[0m     \u001b[39m# Clear the gradients\u001b[39;00m\n",
      "File \u001b[1;32mc:\\Users\\So\\anaconda3\\envs\\shazam\\Lib\\site-packages\\tqdm\\std.py:1178\u001b[0m, in \u001b[0;36mtqdm.__iter__\u001b[1;34m(self)\u001b[0m\n\u001b[0;32m   1175\u001b[0m time \u001b[39m=\u001b[39m \u001b[39mself\u001b[39m\u001b[39m.\u001b[39m_time\n\u001b[0;32m   1177\u001b[0m \u001b[39mtry\u001b[39;00m:\n\u001b[1;32m-> 1178\u001b[0m     \u001b[39mfor\u001b[39;00m obj \u001b[39min\u001b[39;00m iterable:\n\u001b[0;32m   1179\u001b[0m         \u001b[39myield\u001b[39;00m obj\n\u001b[0;32m   1180\u001b[0m         \u001b[39m# Update and possibly print the progressbar.\u001b[39;00m\n\u001b[0;32m   1181\u001b[0m         \u001b[39m# Note: does not call self.update(1) for speed optimisation.\u001b[39;00m\n",
      "File \u001b[1;32mc:\\Users\\So\\anaconda3\\envs\\shazam\\Lib\\site-packages\\torch\\utils\\data\\dataloader.py:633\u001b[0m, in \u001b[0;36m_BaseDataLoaderIter.__next__\u001b[1;34m(self)\u001b[0m\n\u001b[0;32m    630\u001b[0m \u001b[39mif\u001b[39;00m \u001b[39mself\u001b[39m\u001b[39m.\u001b[39m_sampler_iter \u001b[39mis\u001b[39;00m \u001b[39mNone\u001b[39;00m:\n\u001b[0;32m    631\u001b[0m     \u001b[39m# TODO(https://github.com/pytorch/pytorch/issues/76750)\u001b[39;00m\n\u001b[0;32m    632\u001b[0m     \u001b[39mself\u001b[39m\u001b[39m.\u001b[39m_reset()  \u001b[39m# type: ignore[call-arg]\u001b[39;00m\n\u001b[1;32m--> 633\u001b[0m data \u001b[39m=\u001b[39m \u001b[39mself\u001b[39m\u001b[39m.\u001b[39m_next_data()\n\u001b[0;32m    634\u001b[0m \u001b[39mself\u001b[39m\u001b[39m.\u001b[39m_num_yielded \u001b[39m+\u001b[39m\u001b[39m=\u001b[39m \u001b[39m1\u001b[39m\n\u001b[0;32m    635\u001b[0m \u001b[39mif\u001b[39;00m \u001b[39mself\u001b[39m\u001b[39m.\u001b[39m_dataset_kind \u001b[39m==\u001b[39m _DatasetKind\u001b[39m.\u001b[39mIterable \u001b[39mand\u001b[39;00m \\\n\u001b[0;32m    636\u001b[0m         \u001b[39mself\u001b[39m\u001b[39m.\u001b[39m_IterableDataset_len_called \u001b[39mis\u001b[39;00m \u001b[39mnot\u001b[39;00m \u001b[39mNone\u001b[39;00m \u001b[39mand\u001b[39;00m \\\n\u001b[0;32m    637\u001b[0m         \u001b[39mself\u001b[39m\u001b[39m.\u001b[39m_num_yielded \u001b[39m>\u001b[39m \u001b[39mself\u001b[39m\u001b[39m.\u001b[39m_IterableDataset_len_called:\n",
      "File \u001b[1;32mc:\\Users\\So\\anaconda3\\envs\\shazam\\Lib\\site-packages\\torch\\utils\\data\\dataloader.py:1328\u001b[0m, in \u001b[0;36m_MultiProcessingDataLoaderIter._next_data\u001b[1;34m(self)\u001b[0m\n\u001b[0;32m   1325\u001b[0m     \u001b[39mreturn\u001b[39;00m \u001b[39mself\u001b[39m\u001b[39m.\u001b[39m_process_data(data)\n\u001b[0;32m   1327\u001b[0m \u001b[39massert\u001b[39;00m \u001b[39mnot\u001b[39;00m \u001b[39mself\u001b[39m\u001b[39m.\u001b[39m_shutdown \u001b[39mand\u001b[39;00m \u001b[39mself\u001b[39m\u001b[39m.\u001b[39m_tasks_outstanding \u001b[39m>\u001b[39m \u001b[39m0\u001b[39m\n\u001b[1;32m-> 1328\u001b[0m idx, data \u001b[39m=\u001b[39m \u001b[39mself\u001b[39m\u001b[39m.\u001b[39m_get_data()\n\u001b[0;32m   1329\u001b[0m \u001b[39mself\u001b[39m\u001b[39m.\u001b[39m_tasks_outstanding \u001b[39m-\u001b[39m\u001b[39m=\u001b[39m \u001b[39m1\u001b[39m\n\u001b[0;32m   1330\u001b[0m \u001b[39mif\u001b[39;00m \u001b[39mself\u001b[39m\u001b[39m.\u001b[39m_dataset_kind \u001b[39m==\u001b[39m _DatasetKind\u001b[39m.\u001b[39mIterable:\n\u001b[0;32m   1331\u001b[0m     \u001b[39m# Check for _IterableDatasetStopIteration\u001b[39;00m\n",
      "File \u001b[1;32mc:\\Users\\So\\anaconda3\\envs\\shazam\\Lib\\site-packages\\torch\\utils\\data\\dataloader.py:1294\u001b[0m, in \u001b[0;36m_MultiProcessingDataLoaderIter._get_data\u001b[1;34m(self)\u001b[0m\n\u001b[0;32m   1290\u001b[0m     \u001b[39m# In this case, `self._data_queue` is a `queue.Queue`,. But we don't\u001b[39;00m\n\u001b[0;32m   1291\u001b[0m     \u001b[39m# need to call `.task_done()` because we don't use `.join()`.\u001b[39;00m\n\u001b[0;32m   1292\u001b[0m \u001b[39melse\u001b[39;00m:\n\u001b[0;32m   1293\u001b[0m     \u001b[39mwhile\u001b[39;00m \u001b[39mTrue\u001b[39;00m:\n\u001b[1;32m-> 1294\u001b[0m         success, data \u001b[39m=\u001b[39m \u001b[39mself\u001b[39m\u001b[39m.\u001b[39m_try_get_data()\n\u001b[0;32m   1295\u001b[0m         \u001b[39mif\u001b[39;00m success:\n\u001b[0;32m   1296\u001b[0m             \u001b[39mreturn\u001b[39;00m data\n",
      "File \u001b[1;32mc:\\Users\\So\\anaconda3\\envs\\shazam\\Lib\\site-packages\\torch\\utils\\data\\dataloader.py:1132\u001b[0m, in \u001b[0;36m_MultiProcessingDataLoaderIter._try_get_data\u001b[1;34m(self, timeout)\u001b[0m\n\u001b[0;32m   1119\u001b[0m \u001b[39mdef\u001b[39;00m \u001b[39m_try_get_data\u001b[39m(\u001b[39mself\u001b[39m, timeout\u001b[39m=\u001b[39m_utils\u001b[39m.\u001b[39mMP_STATUS_CHECK_INTERVAL):\n\u001b[0;32m   1120\u001b[0m     \u001b[39m# Tries to fetch data from `self._data_queue` once for a given timeout.\u001b[39;00m\n\u001b[0;32m   1121\u001b[0m     \u001b[39m# This can also be used as inner loop of fetching without timeout, with\u001b[39;00m\n\u001b[1;32m   (...)\u001b[0m\n\u001b[0;32m   1129\u001b[0m     \u001b[39m# Returns a 2-tuple:\u001b[39;00m\n\u001b[0;32m   1130\u001b[0m     \u001b[39m#   (bool: whether successfully get data, any: data if successful else None)\u001b[39;00m\n\u001b[0;32m   1131\u001b[0m     \u001b[39mtry\u001b[39;00m:\n\u001b[1;32m-> 1132\u001b[0m         data \u001b[39m=\u001b[39m \u001b[39mself\u001b[39m\u001b[39m.\u001b[39m_data_queue\u001b[39m.\u001b[39mget(timeout\u001b[39m=\u001b[39mtimeout)\n\u001b[0;32m   1133\u001b[0m         \u001b[39mreturn\u001b[39;00m (\u001b[39mTrue\u001b[39;00m, data)\n\u001b[0;32m   1134\u001b[0m     \u001b[39mexcept\u001b[39;00m \u001b[39mException\u001b[39;00m \u001b[39mas\u001b[39;00m e:\n\u001b[0;32m   1135\u001b[0m         \u001b[39m# At timeout and error, we manually check whether any worker has\u001b[39;00m\n\u001b[0;32m   1136\u001b[0m         \u001b[39m# failed. Note that this is the only mechanism for Windows to detect\u001b[39;00m\n\u001b[0;32m   1137\u001b[0m         \u001b[39m# worker failures.\u001b[39;00m\n",
      "File \u001b[1;32mc:\\Users\\So\\anaconda3\\envs\\shazam\\Lib\\multiprocessing\\queues.py:113\u001b[0m, in \u001b[0;36mQueue.get\u001b[1;34m(self, block, timeout)\u001b[0m\n\u001b[0;32m    111\u001b[0m \u001b[39mif\u001b[39;00m block:\n\u001b[0;32m    112\u001b[0m     timeout \u001b[39m=\u001b[39m deadline \u001b[39m-\u001b[39m time\u001b[39m.\u001b[39mmonotonic()\n\u001b[1;32m--> 113\u001b[0m     \u001b[39mif\u001b[39;00m \u001b[39mnot\u001b[39;00m \u001b[39mself\u001b[39m\u001b[39m.\u001b[39m_poll(timeout):\n\u001b[0;32m    114\u001b[0m         \u001b[39mraise\u001b[39;00m Empty\n\u001b[0;32m    115\u001b[0m \u001b[39melif\u001b[39;00m \u001b[39mnot\u001b[39;00m \u001b[39mself\u001b[39m\u001b[39m.\u001b[39m_poll():\n",
      "File \u001b[1;32mc:\\Users\\So\\anaconda3\\envs\\shazam\\Lib\\multiprocessing\\connection.py:256\u001b[0m, in \u001b[0;36m_ConnectionBase.poll\u001b[1;34m(self, timeout)\u001b[0m\n\u001b[0;32m    254\u001b[0m \u001b[39mself\u001b[39m\u001b[39m.\u001b[39m_check_closed()\n\u001b[0;32m    255\u001b[0m \u001b[39mself\u001b[39m\u001b[39m.\u001b[39m_check_readable()\n\u001b[1;32m--> 256\u001b[0m \u001b[39mreturn\u001b[39;00m \u001b[39mself\u001b[39m\u001b[39m.\u001b[39m_poll(timeout)\n",
      "File \u001b[1;32mc:\\Users\\So\\anaconda3\\envs\\shazam\\Lib\\multiprocessing\\connection.py:329\u001b[0m, in \u001b[0;36mPipeConnection._poll\u001b[1;34m(self, timeout)\u001b[0m\n\u001b[0;32m    326\u001b[0m \u001b[39mif\u001b[39;00m (\u001b[39mself\u001b[39m\u001b[39m.\u001b[39m_got_empty_message \u001b[39mor\u001b[39;00m\n\u001b[0;32m    327\u001b[0m             _winapi\u001b[39m.\u001b[39mPeekNamedPipe(\u001b[39mself\u001b[39m\u001b[39m.\u001b[39m_handle)[\u001b[39m0\u001b[39m] \u001b[39m!=\u001b[39m \u001b[39m0\u001b[39m):\n\u001b[0;32m    328\u001b[0m     \u001b[39mreturn\u001b[39;00m \u001b[39mTrue\u001b[39;00m\n\u001b[1;32m--> 329\u001b[0m \u001b[39mreturn\u001b[39;00m \u001b[39mbool\u001b[39m(wait([\u001b[39mself\u001b[39m], timeout))\n",
      "File \u001b[1;32mc:\\Users\\So\\anaconda3\\envs\\shazam\\Lib\\multiprocessing\\connection.py:878\u001b[0m, in \u001b[0;36mwait\u001b[1;34m(object_list, timeout)\u001b[0m\n\u001b[0;32m    875\u001b[0m                 ready_objects\u001b[39m.\u001b[39madd(o)\n\u001b[0;32m    876\u001b[0m                 timeout \u001b[39m=\u001b[39m \u001b[39m0\u001b[39m\n\u001b[1;32m--> 878\u001b[0m     ready_handles \u001b[39m=\u001b[39m _exhaustive_wait(waithandle_to_obj\u001b[39m.\u001b[39mkeys(), timeout)\n\u001b[0;32m    879\u001b[0m \u001b[39mfinally\u001b[39;00m:\n\u001b[0;32m    880\u001b[0m     \u001b[39m# request that overlapped reads stop\u001b[39;00m\n\u001b[0;32m    881\u001b[0m     \u001b[39mfor\u001b[39;00m ov \u001b[39min\u001b[39;00m ov_list:\n",
      "File \u001b[1;32mc:\\Users\\So\\anaconda3\\envs\\shazam\\Lib\\multiprocessing\\connection.py:810\u001b[0m, in \u001b[0;36m_exhaustive_wait\u001b[1;34m(handles, timeout)\u001b[0m\n\u001b[0;32m    808\u001b[0m ready \u001b[39m=\u001b[39m []\n\u001b[0;32m    809\u001b[0m \u001b[39mwhile\u001b[39;00m L:\n\u001b[1;32m--> 810\u001b[0m     res \u001b[39m=\u001b[39m _winapi\u001b[39m.\u001b[39mWaitForMultipleObjects(L, \u001b[39mFalse\u001b[39;00m, timeout)\n\u001b[0;32m    811\u001b[0m     \u001b[39mif\u001b[39;00m res \u001b[39m==\u001b[39m WAIT_TIMEOUT:\n\u001b[0;32m    812\u001b[0m         \u001b[39mbreak\u001b[39;00m\n",
      "\u001b[1;31mKeyboardInterrupt\u001b[0m: "
     ]
    }
   ],
   "source": [
    "#start train loop\n",
    "for e in range(last_epoch, epochs):\n",
    "    start = time.time()\n",
    "    start_time = datetime.datetime.now()\n",
    "    model.train()\n",
    "    train_loss = 0.0\n",
    "    validation_loss = 0.0\n",
    "\n",
    "    # actual model training\n",
    "    for i, (data,labels) in tqdm(enumerate(train_loader)):\n",
    "        data, labels = data.to(device), labels.to(device)\n",
    "         \n",
    "        # Clear the gradients\n",
    "        optimizer.zero_grad()\n",
    "        # Forward Pass\n",
    "        target = model(data.float())\n",
    "        # Find the Loss\n",
    "        loss = criterion(target,labels.float())\n",
    "        # Calculate gradients\n",
    "        loss.backward()\n",
    "        # Update Weights\n",
    "        optimizer.step()\n",
    "        # Calculate Loss\n",
    "        train_loss += loss.item()\n",
    "\n",
    "    train_loss = train_loss / (i + 1)\n",
    "\n",
    "\n",
    "    model.eval()\n",
    "    # testing valiation loss\n",
    "    for i, (data,labels) in tqdm(enumerate(validation_loader)):\n",
    "        data, labels = data.to(device), labels.to(device)\n",
    "         \n",
    "        # Forward Pass\n",
    "        target = model(data.float())\n",
    "        # Find the validation loss\n",
    "        loss = criterion(target,labels.float())\n",
    "\n",
    "        # Calculate Loss\n",
    "        validation_loss += loss.item()\n",
    "\n",
    "    validation_loss = validation_loss / (i + 1)\n",
    "\n",
    "\n",
    "    print('----------------------------------------------------------')    \n",
    "    if validation_loss < min_valid_loss:\n",
    "        print(f'validation loss decreased: {min_valid_loss} -> {validation_loss}')\n",
    "        print(f'saving current model as big_specgram_timbre_model_epoch_{e + 1}_best.pth')\n",
    "        torch.save({'model_state_dict': model.state_dict(),\n",
    "                    'optimizer_state_dict': optimizer.state_dict()\n",
    "                    # 'scheduler_state_dict': scheduler.state_dict(),\n",
    "                    }, f'small_specgram_timbre_model_epoch_{e + 1}_best.pth')\n",
    "        min_valid_loss = validation_loss\n",
    "\n",
    "\n",
    "    end = time.time()\n",
    "    end_time = datetime.datetime.now()\n",
    "    print(f\"Epoch: {e+1}/{epochs}\")\n",
    "    print(f'Start @ {start_time.hour}:{start_time.minute}, End @ {end_time.hour}:{end_time.minute}')\n",
    "    print(f\"Epoch Duration: {end-start:.2f}s / {(end-start) / 60:.2f} min\")\n",
    "    print(f\"Training Loss: {train_loss:.6f}\")\n",
    "    print(f\"Validation Loss: {validation_loss:.6f}\")\n",
    "    print('Learning rate: [0.005]')\n",
    "    # print(f'Learning rate: {scheduler.get_last_lr()}')\n",
    "    print('----------------------------------------------------------\\n')\n",
    "    torch.save({'model_state_dict': model.state_dict(),\n",
    "                    'optimizer_state_dict': optimizer.state_dict()\n",
    "                    # 'scheduler_state_dict': scheduler.state_dict(),\n",
    "                    }, f'small_specgram_timbre_model_epoch_{e + 1}_current.pth')\n",
    "    # scheduler.step()"
   ]
  },
  {
   "cell_type": "code",
   "execution_count": null,
   "metadata": {},
   "outputs": [],
   "source": []
  }
 ],
 "metadata": {
  "kernelspec": {
   "display_name": "shazam",
   "language": "python",
   "name": "python3"
  },
  "language_info": {
   "codemirror_mode": {
    "name": "ipython",
    "version": 3
   },
   "file_extension": ".py",
   "mimetype": "text/x-python",
   "name": "python",
   "nbconvert_exporter": "python",
   "pygments_lexer": "ipython3",
   "version": "3.11.3"
  },
  "orig_nbformat": 4
 },
 "nbformat": 4,
 "nbformat_minor": 2
}
